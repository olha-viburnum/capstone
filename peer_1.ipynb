{
 "cells": [
  {
   "cell_type": "code",
   "execution_count": 2,
   "id": "47313d64",
   "metadata": {},
   "outputs": [
    {
     "data": {
      "text/html": [
       "\n",
       "        <iframe\n",
       "            width=\"100%\"\n",
       "            height=\"650\"\n",
       "            src=\"http://127.0.0.1:8050/\"\n",
       "            frameborder=\"0\"\n",
       "            allowfullscreen\n",
       "            \n",
       "        ></iframe>\n",
       "        "
      ],
      "text/plain": [
       "<IPython.lib.display.IFrame at 0x7f4e167f4d90>"
      ]
     },
     "metadata": {},
     "output_type": "display_data"
    }
   ],
   "source": [
    "from dash import Dash, html, dcc, Input, Output, callback\n",
    "import pandas as pd\n",
    "import plotly.express as px\n",
    "import matplotlib.pyplot as plt\n",
    "from wordcloud import WordCloud\n",
    "\n",
    "\n",
    "app = Dash(__name__)\n",
    "\n",
    "tech_data =  pd.read_csv('m5_survey_data_technologies_normalised.csv')\n",
    "\n",
    "demo_data =  pd.read_csv('m5_survey_data_demographics.csv')\n",
    "\n",
    "bar_lang = tech_data.groupby(['LanguageWorkedWith']).sum().reset_index()\n",
    "fig_lang = px.bar(bar_lang.head(10), x='LanguageWorkedWith', y='Respondent',\n",
    "                      title='Top 10 Languages')\n",
    "bar_base= tech_data.groupby(['DatabaseWorkedWith']).sum().reset_index()\n",
    "fig_base = px.bar(bar_base.head(10), x='DatabaseWorkedWith', y='Respondent',\n",
    "                      title='Top 10 Databases')\n",
    "\n",
    "from PIL import Image\n",
    "pil_img = Image.open(\"cloud_platform.png\")\n",
    "\n",
    "bub_data = tech_data.groupby(['WebFrameWorkedWith']).sum().reset_index()\n",
    "fig_bub = px.scatter(x=bub_data.head(10)['WebFrameWorkedWith'],\n",
    "                 y=bub_data.head(10)['Respondent'],\n",
    "                size=bub_data.head(10)['Respondent'], title='Web Framework')\n",
    "\n",
    "\n",
    "\n",
    "app.layout = html.Div(children=[ \n",
    "    html.H1('Current Technology Usage',\n",
    "            style={'textAlign': 'center', 'color': '#503D36', 'font-size': 24}),\n",
    "    html.Div([\n",
    "        html.Div([dcc.Graph(figure=fig_lang)]),\n",
    "        html.Div([dcc.Graph(figure=fig_base)]),  \n",
    "    ],style={'display': 'flex'}),\n",
    "    \n",
    "    html.Div([\n",
    "        html.Div(html.Img(src=pil_img),),\n",
    "        html.Div([dcc.Graph(figure=fig_bub)]),\n",
    "        \n",
    "    ],style={'display': 'flex'})\n",
    "])                      \n",
    "    \n",
    "\n",
    "if __name__ == '__main__':\n",
    "    app.run(debug=True)"
   ]
  },
  {
   "cell_type": "code",
   "execution_count": null,
   "id": "c85158e7",
   "metadata": {},
   "outputs": [],
   "source": []
  }
 ],
 "metadata": {
  "kernelspec": {
   "display_name": "Python 3 (ipykernel)",
   "language": "python",
   "name": "python3"
  },
  "language_info": {
   "codemirror_mode": {
    "name": "ipython",
    "version": 3
   },
   "file_extension": ".py",
   "mimetype": "text/x-python",
   "name": "python",
   "nbconvert_exporter": "python",
   "pygments_lexer": "ipython3",
   "version": "3.9.12"
  }
 },
 "nbformat": 4,
 "nbformat_minor": 5
}
